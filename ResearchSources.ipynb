{
 "cells": [
  {
   "cell_type": "markdown",
   "id": "36c539dc",
   "metadata": {},
   "source": [
    "### My current focal point:\n",
    "[Pricing Options with Mathematical Models](https://www.coursera.org/learn/pricing-options-with-mathematical-models/home/welcome)\n",
    "\n",
    "A Coursera course that teaches the basics of economics with higher level math prerequisites.  \n",
    "Its aim is to model options. along the way we're taught how to model stocks, which is what I'm looking for.  \n",
    "The book the course is based on also seems interesting, it includes exercises."
   ]
  },
  {
   "cell_type": "markdown",
   "id": "8176218d",
   "metadata": {},
   "source": [
    "### What will guide me afterwards:\n",
    "1. Murphy, A., Strobl, E. (2010). *The impact of hurricanes on housing prices:\n",
    "evidence from US coastal cities (Working paper 1009).* [Link](https://www.dallasfed.org/assets/documents/research/papers/2010/wp1009.pdf)  \n",
    "\n",
    "    Really fun and exciting to read. They really model the hurricanes and their damage using simulations!.  \n",
    "    The conclusion is quite surprising, no spoilers :)  \n",
    "    This is what I hope to one day reproduce with modern technologies and my little laptop.  \n",
    "\n",
    "\n",
    "2. Kothari S.P., Jerold B.W. (2008). *(Handbooks in Finance) Handbook of Empirical Corporate Finance. Volume 1.*  \n",
    "\n",
    "    Specifically, *Chapter 1: Econometrics of Event Studies* which summarises seemingly everything there was to know until 2008 on event studies. Is readable though meaningless without better knowledge.  \n",
    "\n",
    "\n",
    "3. Barlow R.J., (1999). *Statistics - A Guide and Reference to the Use of Statistical Methods in the Physical Sciences*.  \n",
    "\n",
    "    A refresher on statistics from the course I took a while back."
   ]
  },
  {
   "cell_type": "code",
   "execution_count": null,
   "id": "b5b71f8f",
   "metadata": {},
   "outputs": [],
   "source": []
  }
 ],
 "metadata": {
  "kernelspec": {
   "display_name": "Python 3 (ipykernel)",
   "language": "python",
   "name": "python3"
  },
  "language_info": {
   "codemirror_mode": {
    "name": "ipython",
    "version": 3
   },
   "file_extension": ".py",
   "mimetype": "text/x-python",
   "name": "python",
   "nbconvert_exporter": "python",
   "pygments_lexer": "ipython3",
   "version": "3.8.10"
  }
 },
 "nbformat": 4,
 "nbformat_minor": 5
}
