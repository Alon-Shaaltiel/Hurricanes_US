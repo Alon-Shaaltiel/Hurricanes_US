{
 "cells": [
  {
   "cell_type": "markdown",
   "id": "81adba3d",
   "metadata": {},
   "source": [
    "Currently still researching different methods for event study and whether my data is applicable.  \n",
    "Please stand by :)"
   ]
  },
  {
   "cell_type": "markdown",
   "id": "764043c0",
   "metadata": {},
   "source": [
    "For event studies we need a model that will show us the expected behaviour and how unexpected the observed behaviour is.\n",
    "\n",
    "### Possible models:\n",
    "1. Machine Learning algorithm trained on the data between 2 hurricanes. The target will be the affected area's HPI and the training data will be more centeral states that weren't affected.  \n",
    "Because of the high correlation between House Price behaviour across all states this model could produce very accurate predictions. \n",
    "1. A more traditional model from the literature. (could produce better predictions for stocks)  \n",
    "This model would be an equilibrium model and would incorporate my physics equilibrium simulation skills :)"
   ]
  },
  {
   "cell_type": "markdown",
   "id": "c464510e",
   "metadata": {},
   "source": [
    "## Steps:\n",
    "1. Generate random data with differing variances and random event dates\n",
    "1. Test models on randomized data and make sure there's no bias\n",
    "1. Assuming there's no bias, test how abnormal the data after the event is."
   ]
  }
 ],
 "metadata": {
  "kernelspec": {
   "display_name": "Python 3 (ipykernel)",
   "language": "python",
   "name": "python3"
  },
  "language_info": {
   "codemirror_mode": {
    "name": "ipython",
    "version": 3
   },
   "file_extension": ".py",
   "mimetype": "text/x-python",
   "name": "python",
   "nbconvert_exporter": "python",
   "pygments_lexer": "ipython3",
   "version": "3.8.10"
  }
 },
 "nbformat": 4,
 "nbformat_minor": 5
}
